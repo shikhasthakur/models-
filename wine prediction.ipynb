{
 "cells": [
  {
   "cell_type": "code",
   "execution_count": 1,
   "metadata": {},
   "outputs": [],
   "source": [
    "import pandas as pd\n",
    "import numpy as np\n",
    "\n",
    "xtrain = pd.read_csv(r'/Users/shikhathakur/Downloads/wine_train.csv')"
   ]
  },
  {
   "cell_type": "code",
   "execution_count": 29,
   "metadata": {},
   "outputs": [
    {
     "data": {
      "text/plain": [
       "0"
      ]
     },
     "execution_count": 29,
     "metadata": {},
     "output_type": "execute_result"
    }
   ],
   "source": [
    "xtrain\n",
    "xtrain.isnull().sum().sum()"
   ]
  },
  {
   "cell_type": "code",
   "execution_count": 3,
   "metadata": {},
   "outputs": [
    {
     "data": {
      "text/plain": [
       "Index(['fixed.acidity', 'volatile.acidity', 'citric.acid', 'residual.sugar',\n",
       "       'chlorides', 'free.sulfur.dioxide', 'total.sulfur.dioxide', 'density',\n",
       "       'pH', 'sulphates', 'alcohol', 'quality'],\n",
       "      dtype='object')"
      ]
     },
     "execution_count": 3,
     "metadata": {},
     "output_type": "execute_result"
    }
   ],
   "source": [
    "xtrain.columns"
   ]
  },
  {
   "cell_type": "code",
   "execution_count": 4,
   "metadata": {},
   "outputs": [
    {
     "data": {
      "text/plain": [
       "(3673, 13)"
      ]
     },
     "execution_count": 4,
     "metadata": {},
     "output_type": "execute_result"
    }
   ],
   "source": [
    "review = [] \n",
    "for i in xtrain['quality']:\n",
    "    if i<6:\n",
    "        review.append('bad')\n",
    "    elif(i ==6): \n",
    "        review.append('normal')\n",
    "    elif i>6: \n",
    "        review.append('good')\n",
    "xtrain['review'] = review\n",
    "xtrain.head()\n",
    "xtrain.shape"
   ]
  },
  {
   "cell_type": "code",
   "execution_count": 6,
   "metadata": {},
   "outputs": [
    {
     "name": "stdout",
     "output_type": "stream",
     "text": [
      "(2938, 8)\n"
     ]
    }
   ],
   "source": [
    "from sklearn.model_selection import train_test_split\n",
    "\n",
    "\n",
    "x = xtrain.iloc[:,:11]\n",
    "y = xtrain['review']\n",
    "\n",
    "train_x,test_x, train_y,test_y = train_test_split(x,y, test_size= 0.2, random_state =1)\n",
    "\n",
    "\n",
    "#xtest_ = xtest.iloc[:,:11]\n",
    "#ytest_ = xtest['review']\n",
    "\n",
    "from sklearn.preprocessing import StandardScaler \n",
    "sc= StandardScaler()\n",
    "x= sc.fit_transform(x)\n",
    "from sklearn.decomposition import PCA\n",
    "pca= PCA()\n",
    "x_pca= pca.fit_transform(train_x)\n",
    " \n",
    "pca_new = PCA(n_components= 8)\n",
    "x_new = pca_new.fit_transform(train_x)\n",
    "\n",
    "\n",
    "\n",
    "xt_pca= pca.fit_transform(test_x)\n",
    " \n",
    "pca_new = PCA(n_components= 8)\n",
    "xt_new = pca_new.fit_transform(test_x)\n",
    "\n",
    "\n",
    "\n",
    " \n",
    " #testscaling\n",
    "print(x_new.shape)\n",
    "\n"
   ]
  },
  {
   "cell_type": "code",
   "execution_count": 7,
   "metadata": {},
   "outputs": [
    {
     "name": "stdout",
     "output_type": "stream",
     "text": [
      "[1.74121600e+03 1.56881937e+02 1.98590521e+01 1.03685943e+00\n",
      " 5.84462835e-01 1.93713010e-02 1.50354546e-02 1.11194481e-02\n",
      " 7.50000140e-03 4.26229026e-04 1.79106128e-07]\n",
      "[[-1.58570727e+01 -8.55640502e+00 -4.52562249e+00 ...  3.98428118e-02\n",
      "   8.96101200e-03 -7.47606810e-02]\n",
      " [ 3.73031597e+01 -4.23040742e+00 -1.89671988e+00 ... -8.17069060e-02\n",
      "   5.75433381e-02  5.35982807e-02]\n",
      " [-1.59008560e+01 -1.23232253e+00 -2.85644082e+00 ...  1.35893782e-03\n",
      "  -2.82044861e-02 -9.84485221e-02]\n",
      " ...\n",
      " [-2.65725727e+01  4.79517294e+00 -9.04204887e-02 ... -1.58956258e-01\n",
      "  -6.08994576e-02  8.02477174e-02]\n",
      " [-8.60700748e+01  7.37681520e+00 -1.35254253e+00 ...  8.55221406e-02\n",
      "   6.73101440e-02  1.47557818e-01]\n",
      " [ 2.27715756e+01  7.94075021e+00 -5.76476654e+00 ...  1.13971341e-01\n",
      "  -1.18914137e-01  1.98476231e-02]]\n"
     ]
    }
   ],
   "source": [
    "print(pca.explained_variance_)\n",
    "print(x_new)"
   ]
  },
  {
   "cell_type": "code",
   "execution_count": 32,
   "metadata": {},
   "outputs": [],
   "source": [
    "from sklearn.linear_model import LogisticRegression \n",
    "from sklearn.metrics import confusion_matrix, accuracy_score\n",
    "from sklearn.tree import DecisionTreeClassifier\n",
    "dt= DecisionTreeClassifier()\n",
    "dt.fit(x_new,train_y)\n",
    "prediction = dt.predict(xt_new)"
   ]
  },
  {
   "cell_type": "code",
   "execution_count": 16,
   "metadata": {},
   "outputs": [
    {
     "data": {
      "text/plain": [
       "array(['normal', 'bad', 'normal', 'normal', 'bad', 'good', 'normal',\n",
       "       'bad', 'good', 'good', 'good', 'good', 'good', 'good', 'normal',\n",
       "       'normal', 'normal', 'bad', 'normal', 'good', 'bad', 'normal',\n",
       "       'bad', 'bad', 'normal', 'good', 'bad', 'bad', 'good', 'normal',\n",
       "       'normal', 'good', 'good', 'bad', 'normal', 'normal', 'normal',\n",
       "       'good', 'bad', 'bad', 'bad', 'normal', 'bad', 'normal', 'normal',\n",
       "       'bad', 'good', 'bad', 'normal', 'normal', 'good', 'normal',\n",
       "       'normal', 'normal', 'normal', 'normal', 'bad', 'normal', 'bad',\n",
       "       'bad', 'normal', 'good', 'normal', 'normal', 'good', 'good',\n",
       "       'good', 'bad', 'normal', 'normal', 'normal', 'good', 'good', 'bad',\n",
       "       'bad', 'normal', 'bad', 'bad', 'good', 'normal', 'normal',\n",
       "       'normal', 'bad', 'normal', 'normal', 'normal', 'bad', 'bad',\n",
       "       'normal', 'good', 'normal', 'normal', 'good', 'bad', 'good',\n",
       "       'good', 'normal', 'good', 'bad', 'normal', 'bad', 'good', 'bad',\n",
       "       'normal', 'normal', 'normal', 'normal', 'normal', 'normal', 'bad',\n",
       "       'bad', 'bad', 'bad', 'normal', 'normal', 'bad', 'normal', 'good',\n",
       "       'normal', 'good', 'normal', 'bad', 'bad', 'normal', 'normal',\n",
       "       'good', 'normal', 'good', 'normal', 'good', 'bad', 'good', 'good',\n",
       "       'normal', 'good', 'normal', 'normal', 'good', 'normal', 'normal',\n",
       "       'normal', 'normal', 'good', 'bad', 'good', 'bad', 'bad', 'bad',\n",
       "       'normal', 'normal', 'good', 'normal', 'normal', 'normal', 'bad',\n",
       "       'normal', 'normal', 'normal', 'bad', 'good', 'normal', 'normal',\n",
       "       'normal', 'normal', 'good', 'good', 'good', 'normal', 'normal',\n",
       "       'good', 'normal', 'normal', 'normal', 'normal', 'normal', 'normal',\n",
       "       'normal', 'normal', 'bad', 'normal', 'bad', 'normal', 'good',\n",
       "       'normal', 'good', 'bad', 'normal', 'normal', 'normal', 'normal',\n",
       "       'normal', 'bad', 'good', 'normal', 'normal', 'normal', 'bad',\n",
       "       'normal', 'normal', 'normal', 'normal', 'bad', 'good', 'bad',\n",
       "       'bad', 'normal', 'bad', 'normal', 'good', 'normal', 'normal',\n",
       "       'bad', 'good', 'good', 'normal', 'normal', 'normal', 'normal',\n",
       "       'normal', 'bad', 'normal', 'bad', 'bad', 'normal', 'normal',\n",
       "       'normal', 'good', 'bad', 'normal', 'normal', 'normal', 'bad',\n",
       "       'normal', 'normal', 'normal', 'normal', 'bad', 'normal', 'normal',\n",
       "       'good', 'normal', 'good', 'good', 'normal', 'good', 'normal',\n",
       "       'bad', 'bad', 'good', 'normal', 'bad', 'bad', 'normal', 'bad',\n",
       "       'normal', 'normal', 'bad', 'good', 'normal', 'bad', 'bad', 'bad',\n",
       "       'bad', 'normal', 'good', 'bad', 'normal', 'bad', 'bad', 'normal',\n",
       "       'normal', 'bad', 'bad', 'normal', 'good', 'bad', 'normal',\n",
       "       'normal', 'good', 'bad', 'good', 'bad', 'normal', 'normal',\n",
       "       'normal', 'bad', 'normal', 'good', 'normal', 'normal', 'bad',\n",
       "       'bad', 'normal', 'normal', 'normal', 'bad', 'bad', 'normal',\n",
       "       'normal', 'bad', 'normal', 'good', 'bad', 'normal', 'normal',\n",
       "       'bad', 'bad', 'bad', 'good', 'normal', 'bad', 'normal', 'normal',\n",
       "       'bad', 'good', 'normal', 'normal', 'normal', 'bad', 'good',\n",
       "       'normal', 'bad', 'normal', 'normal', 'normal', 'normal', 'normal',\n",
       "       'normal', 'normal', 'normal', 'normal', 'normal', 'normal', 'bad',\n",
       "       'good', 'normal', 'normal', 'bad', 'bad', 'bad', 'bad', 'bad',\n",
       "       'good', 'normal', 'normal', 'normal', 'good', 'good', 'normal',\n",
       "       'bad', 'good', 'normal', 'bad', 'bad', 'bad', 'normal', 'bad',\n",
       "       'normal', 'good', 'bad', 'good', 'bad', 'normal', 'bad', 'normal',\n",
       "       'good', 'good', 'bad', 'bad', 'normal', 'good', 'bad', 'normal',\n",
       "       'normal', 'good', 'good', 'normal', 'bad', 'bad', 'bad', 'normal',\n",
       "       'bad', 'bad', 'normal', 'bad', 'normal', 'normal', 'good',\n",
       "       'normal', 'normal', 'normal', 'normal', 'normal', 'normal', 'bad',\n",
       "       'bad', 'normal', 'bad', 'normal', 'normal', 'normal', 'normal',\n",
       "       'bad', 'normal', 'bad', 'normal', 'good', 'good', 'normal', 'good',\n",
       "       'good', 'normal', 'normal', 'normal', 'bad', 'normal', 'normal',\n",
       "       'normal', 'normal', 'bad', 'normal', 'normal', 'good', 'bad',\n",
       "       'good', 'bad', 'bad', 'bad', 'normal', 'good', 'normal', 'normal',\n",
       "       'normal', 'good', 'bad', 'normal', 'normal', 'bad', 'normal',\n",
       "       'normal', 'normal', 'normal', 'bad', 'bad', 'normal', 'bad',\n",
       "       'normal', 'normal', 'normal', 'bad', 'normal', 'good', 'good',\n",
       "       'normal', 'bad', 'normal', 'good', 'good', 'good', 'good',\n",
       "       'normal', 'normal', 'bad', 'normal', 'bad', 'good', 'bad', 'bad',\n",
       "       'bad', 'good', 'good', 'good', 'normal', 'good', 'normal',\n",
       "       'normal', 'good', 'normal', 'normal', 'bad', 'bad', 'normal',\n",
       "       'normal', 'bad', 'normal', 'bad', 'normal', 'bad', 'bad', 'normal',\n",
       "       'good', 'normal', 'normal', 'normal', 'bad', 'normal', 'good',\n",
       "       'bad', 'normal', 'normal', 'normal', 'bad', 'bad', 'good', 'bad',\n",
       "       'good', 'good', 'good', 'good', 'bad', 'bad', 'bad', 'bad', 'bad',\n",
       "       'good', 'normal', 'normal', 'bad', 'normal', 'normal', 'bad',\n",
       "       'bad', 'good', 'bad', 'normal', 'good', 'bad', 'good', 'normal',\n",
       "       'normal', 'normal', 'good', 'good', 'bad', 'good', 'bad', 'normal',\n",
       "       'bad', 'bad', 'normal', 'bad', 'normal', 'normal', 'good', 'bad',\n",
       "       'good', 'bad', 'normal', 'normal', 'normal', 'normal', 'normal',\n",
       "       'good', 'bad', 'good', 'normal', 'bad', 'normal', 'bad', 'bad',\n",
       "       'normal', 'good', 'good', 'bad', 'bad', 'normal', 'normal',\n",
       "       'normal', 'normal', 'normal', 'bad', 'good', 'normal', 'bad',\n",
       "       'bad', 'normal', 'good', 'good', 'bad', 'bad', 'bad', 'normal',\n",
       "       'good', 'bad', 'bad', 'good', 'normal', 'bad', 'normal', 'bad',\n",
       "       'normal', 'normal', 'normal', 'normal', 'bad', 'bad', 'normal',\n",
       "       'normal', 'bad', 'bad', 'bad', 'bad', 'bad', 'good', 'bad',\n",
       "       'normal', 'normal', 'good', 'normal', 'normal', 'bad', 'bad',\n",
       "       'bad', 'normal', 'bad', 'normal', 'normal', 'normal', 'bad',\n",
       "       'good', 'normal', 'bad', 'normal', 'good', 'normal', 'normal',\n",
       "       'good', 'bad', 'good', 'normal', 'normal', 'normal', 'bad',\n",
       "       'normal', 'bad', 'good', 'normal', 'normal', 'bad', 'bad', 'bad',\n",
       "       'bad', 'bad', 'normal', 'good', 'good', 'bad', 'normal', 'good',\n",
       "       'bad', 'normal', 'bad', 'good', 'good', 'normal', 'normal', 'good',\n",
       "       'good', 'normal', 'bad', 'good', 'good', 'bad', 'good', 'normal',\n",
       "       'normal', 'bad', 'bad', 'normal', 'normal', 'bad', 'normal', 'bad',\n",
       "       'good', 'bad', 'good', 'normal', 'normal', 'normal', 'good', 'bad',\n",
       "       'good', 'normal', 'normal', 'normal', 'normal', 'bad', 'bad',\n",
       "       'good', 'normal', 'normal', 'normal', 'good', 'bad', 'good', 'bad',\n",
       "       'good', 'good', 'normal', 'normal', 'bad', 'normal', 'bad', 'bad',\n",
       "       'normal', 'normal', 'normal', 'normal', 'normal', 'normal',\n",
       "       'normal', 'normal', 'normal', 'bad', 'normal', 'normal', 'bad',\n",
       "       'good', 'bad', 'bad', 'bad', 'normal', 'normal', 'normal',\n",
       "       'normal', 'bad', 'normal', 'bad', 'good', 'good', 'normal',\n",
       "       'normal', 'good', 'bad', 'normal'], dtype=object)"
      ]
     },
     "execution_count": 16,
     "metadata": {},
     "output_type": "execute_result"
    }
   ],
   "source": [
    "prediction"
   ]
  },
  {
   "cell_type": "code",
   "execution_count": 17,
   "metadata": {},
   "outputs": [
    {
     "data": {
      "text/plain": [
       "0.5360544217687074"
      ]
     },
     "execution_count": 17,
     "metadata": {},
     "output_type": "execute_result"
    }
   ],
   "source": [
    "ac= accuracy_score(test_y,prediction)\n",
    "ac\n",
    "\n"
   ]
  },
  {
   "cell_type": "code",
   "execution_count": 22,
   "metadata": {},
   "outputs": [
    {
     "data": {
      "text/plain": [
       "array([[126,  16,  91],\n",
       "       [ 24,  83,  72],\n",
       "       [ 81,  57, 185]])"
      ]
     },
     "execution_count": 22,
     "metadata": {},
     "output_type": "execute_result"
    }
   ],
   "source": [
    "final_output = pd.DataFrame()\n",
    "\n",
    "index= test_x.index\n",
    "\n",
    "final_output['id']= index\n",
    "final_output['taste']= prediction\n",
    "\n",
    "final_output\n",
    "\n",
    "from sklearn.metrics import confusion_matrix\n",
    "cm =confusion_matrix(test_y, prediction)\n",
    "cm"
   ]
  },
  {
   "cell_type": "code",
   "execution_count": 23,
   "metadata": {},
   "outputs": [
    {
     "data": {
      "text/plain": [
       "'              precision    recall  f1-score   support\\n\\n         bad       0.55      0.54      0.54       233\\n        good       0.53      0.46      0.50       179\\n      normal       0.53      0.57      0.55       323\\n\\n    accuracy                           0.54       735\\n   macro avg       0.54      0.53      0.53       735\\nweighted avg       0.54      0.54      0.54       735\\n'"
      ]
     },
     "execution_count": 23,
     "metadata": {},
     "output_type": "execute_result"
    }
   ],
   "source": [
    "final_output.columns = ['id', 'taste']\n",
    "from sklearn.metrics import classification_report\n",
    "cr = classification_report(test_y, prediction)\n",
    "cr"
   ]
  },
  {
   "cell_type": "code",
   "execution_count": 16,
   "metadata": {},
   "outputs": [
    {
     "data": {
      "text/html": [
       "<div>\n",
       "<style scoped>\n",
       "    .dataframe tbody tr th:only-of-type {\n",
       "        vertical-align: middle;\n",
       "    }\n",
       "\n",
       "    .dataframe tbody tr th {\n",
       "        vertical-align: top;\n",
       "    }\n",
       "\n",
       "    .dataframe thead th {\n",
       "        text-align: right;\n",
       "    }\n",
       "</style>\n",
       "<table border=\"1\" class=\"dataframe\">\n",
       "  <thead>\n",
       "    <tr style=\"text-align: right;\">\n",
       "      <th></th>\n",
       "      <th>id</th>\n",
       "      <th>taste</th>\n",
       "    </tr>\n",
       "  </thead>\n",
       "  <tbody>\n",
       "    <tr>\n",
       "      <th>0</th>\n",
       "      <td>0</td>\n",
       "      <td>normal</td>\n",
       "    </tr>\n",
       "    <tr>\n",
       "      <th>1</th>\n",
       "      <td>1</td>\n",
       "      <td>good</td>\n",
       "    </tr>\n",
       "    <tr>\n",
       "      <th>2</th>\n",
       "      <td>2</td>\n",
       "      <td>good</td>\n",
       "    </tr>\n",
       "    <tr>\n",
       "      <th>3</th>\n",
       "      <td>3</td>\n",
       "      <td>normal</td>\n",
       "    </tr>\n",
       "    <tr>\n",
       "      <th>4</th>\n",
       "      <td>4</td>\n",
       "      <td>normal</td>\n",
       "    </tr>\n",
       "    <tr>\n",
       "      <th>...</th>\n",
       "      <td>...</td>\n",
       "      <td>...</td>\n",
       "    </tr>\n",
       "    <tr>\n",
       "      <th>3668</th>\n",
       "      <td>3668</td>\n",
       "      <td>normal</td>\n",
       "    </tr>\n",
       "    <tr>\n",
       "      <th>3669</th>\n",
       "      <td>3669</td>\n",
       "      <td>bad</td>\n",
       "    </tr>\n",
       "    <tr>\n",
       "      <th>3670</th>\n",
       "      <td>3670</td>\n",
       "      <td>normal</td>\n",
       "    </tr>\n",
       "    <tr>\n",
       "      <th>3671</th>\n",
       "      <td>3671</td>\n",
       "      <td>good</td>\n",
       "    </tr>\n",
       "    <tr>\n",
       "      <th>3672</th>\n",
       "      <td>3672</td>\n",
       "      <td>bad</td>\n",
       "    </tr>\n",
       "  </tbody>\n",
       "</table>\n",
       "<p>3673 rows × 2 columns</p>\n",
       "</div>"
      ],
      "text/plain": [
       "        id   taste\n",
       "0        0  normal\n",
       "1        1    good\n",
       "2        2    good\n",
       "3        3  normal\n",
       "4        4  normal\n",
       "...    ...     ...\n",
       "3668  3668  normal\n",
       "3669  3669     bad\n",
       "3670  3670  normal\n",
       "3671  3671    good\n",
       "3672  3672     bad\n",
       "\n",
       "[3673 rows x 2 columns]"
      ]
     },
     "execution_count": 16,
     "metadata": {},
     "output_type": "execute_result"
    }
   ],
   "source": [
    "final_output"
   ]
  },
  {
   "cell_type": "code",
   "execution_count": 28,
   "metadata": {},
   "outputs": [
    {
     "data": {
      "text/plain": [
       "0.6557823129251701"
      ]
     },
     "execution_count": 28,
     "metadata": {},
     "output_type": "execute_result"
    }
   ],
   "source": [
    "from sklearn.ensemble import RandomForestClassifier\n",
    "rfc = RandomForestClassifier(n_estimators=200)\n",
    "rfc.fit(x_new,train_y)\n",
    "pred_rfc = rfc.predict(xt_new)\n",
    "acc= accuracy_score(test_y,pred_rfc)\n",
    "acc\n",
    "\n"
   ]
  },
  {
   "cell_type": "code",
   "execution_count": 35,
   "metadata": {},
   "outputs": [
    {
     "name": "stderr",
     "output_type": "stream",
     "text": [
      "/Applications/anaconda3/lib/python3.7/site-packages/sklearn/linear_model/_logistic.py:764: ConvergenceWarning: lbfgs failed to converge (status=1):\n",
      "STOP: TOTAL NO. of ITERATIONS REACHED LIMIT.\n",
      "\n",
      "Increase the number of iterations (max_iter) or scale the data as shown in:\n",
      "    https://scikit-learn.org/stable/modules/preprocessing.html\n",
      "Please also refer to the documentation for alternative solver options:\n",
      "    https://scikit-learn.org/stable/modules/linear_model.html#logistic-regression\n",
      "  extra_warning_msg=_LOGISTIC_SOLVER_CONVERGENCE_MSG)\n"
     ]
    },
    {
     "data": {
      "text/plain": [
       "0.5319727891156463"
      ]
     },
     "execution_count": 35,
     "metadata": {},
     "output_type": "execute_result"
    }
   ],
   "source": [
    "LR= LogisticRegression()\n",
    "model = LR.fit(x_new,train_y)\n",
    "pr= model.predict(xt_new)\n",
    "accu = accuracy_score(test_y,pr)\n",
    "accu"
   ]
  },
  {
   "cell_type": "code",
   "execution_count": 38,
   "metadata": {},
   "outputs": [
    {
     "data": {
      "text/plain": [
       "0.5319727891156463"
      ]
     },
     "execution_count": 38,
     "metadata": {},
     "output_type": "execute_result"
    }
   ],
   "source": [
    "z = model.score(x_new,train_y)\n",
    "z\n",
    "zz = model.score(xt_new,test_y)\n",
    "zz"
   ]
  },
  {
   "cell_type": "code",
   "execution_count": null,
   "metadata": {},
   "outputs": [],
   "source": []
  }
 ],
 "metadata": {
  "kernelspec": {
   "display_name": "Python 3",
   "language": "python",
   "name": "python3"
  },
  "language_info": {
   "codemirror_mode": {
    "name": "ipython",
    "version": 3
   },
   "file_extension": ".py",
   "mimetype": "text/x-python",
   "name": "python",
   "nbconvert_exporter": "python",
   "pygments_lexer": "ipython3",
   "version": "3.7.9"
  }
 },
 "nbformat": 4,
 "nbformat_minor": 4
}
