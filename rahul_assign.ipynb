{
 "cells": [
  {
   "cell_type": "code",
   "execution_count": 1,
   "metadata": {},
   "outputs": [],
   "source": [
    "import pandas as pd \n",
    "import numpy as np \n",
    "import datetime"
   ]
  },
  {
   "cell_type": "code",
   "execution_count": 2,
   "metadata": {},
   "outputs": [],
   "source": [
    "dataset = pd.read_csv(r\"/Users/shikhathakur/Downloads/EURUSD_15m_BID_01.01.2010-31.12.2016.csv\")"
   ]
  },
  {
   "cell_type": "code",
   "execution_count": 3,
   "metadata": {},
   "outputs": [
    {
     "data": {
      "text/html": [
       "<div>\n",
       "<style scoped>\n",
       "    .dataframe tbody tr th:only-of-type {\n",
       "        vertical-align: middle;\n",
       "    }\n",
       "\n",
       "    .dataframe tbody tr th {\n",
       "        vertical-align: top;\n",
       "    }\n",
       "\n",
       "    .dataframe thead th {\n",
       "        text-align: right;\n",
       "    }\n",
       "</style>\n",
       "<table border=\"1\" class=\"dataframe\">\n",
       "  <thead>\n",
       "    <tr style=\"text-align: right;\">\n",
       "      <th></th>\n",
       "      <th>Time</th>\n",
       "      <th>Open</th>\n",
       "      <th>High</th>\n",
       "      <th>Low</th>\n",
       "      <th>Close</th>\n",
       "      <th>Volume</th>\n",
       "    </tr>\n",
       "  </thead>\n",
       "  <tbody>\n",
       "    <tr>\n",
       "      <th>0</th>\n",
       "      <td>2010-01-01 00:00</td>\n",
       "      <td>1.43283</td>\n",
       "      <td>1.43293</td>\n",
       "      <td>1.43224</td>\n",
       "      <td>1.43293</td>\n",
       "      <td>608600007.1</td>\n",
       "    </tr>\n",
       "    <tr>\n",
       "      <th>1</th>\n",
       "      <td>2010-01-01 00:15</td>\n",
       "      <td>1.43285</td>\n",
       "      <td>1.43295</td>\n",
       "      <td>1.43229</td>\n",
       "      <td>1.43275</td>\n",
       "      <td>535600003.2</td>\n",
       "    </tr>\n",
       "    <tr>\n",
       "      <th>2</th>\n",
       "      <td>2010-01-01 00:30</td>\n",
       "      <td>1.43280</td>\n",
       "      <td>1.43303</td>\n",
       "      <td>1.43239</td>\n",
       "      <td>1.43281</td>\n",
       "      <td>436299999.2</td>\n",
       "    </tr>\n",
       "    <tr>\n",
       "      <th>3</th>\n",
       "      <td>2010-01-01 00:45</td>\n",
       "      <td>1.43285</td>\n",
       "      <td>1.43294</td>\n",
       "      <td>1.43229</td>\n",
       "      <td>1.43276</td>\n",
       "      <td>614299997.3</td>\n",
       "    </tr>\n",
       "    <tr>\n",
       "      <th>4</th>\n",
       "      <td>2010-01-01 01:00</td>\n",
       "      <td>1.43287</td>\n",
       "      <td>1.43292</td>\n",
       "      <td>1.43206</td>\n",
       "      <td>1.43282</td>\n",
       "      <td>705300008.8</td>\n",
       "    </tr>\n",
       "  </tbody>\n",
       "</table>\n",
       "</div>"
      ],
      "text/plain": [
       "               Time     Open     High      Low    Close       Volume\n",
       "0  2010-01-01 00:00  1.43283  1.43293  1.43224  1.43293  608600007.1\n",
       "1  2010-01-01 00:15  1.43285  1.43295  1.43229  1.43275  535600003.2\n",
       "2  2010-01-01 00:30  1.43280  1.43303  1.43239  1.43281  436299999.2\n",
       "3  2010-01-01 00:45  1.43285  1.43294  1.43229  1.43276  614299997.3\n",
       "4  2010-01-01 01:00  1.43287  1.43292  1.43206  1.43282  705300008.8"
      ]
     },
     "execution_count": 3,
     "metadata": {},
     "output_type": "execute_result"
    }
   ],
   "source": [
    "dataset.head()"
   ]
  },
  {
   "cell_type": "code",
   "execution_count": 4,
   "metadata": {},
   "outputs": [
    {
     "name": "stdout",
     "output_type": "stream",
     "text": [
      "0         2010-01-01 00:00\n",
      "1         2010-01-01 00:15\n",
      "2         2010-01-01 00:30\n",
      "3         2010-01-01 00:45\n",
      "4         2010-01-01 01:00\n",
      "                ...       \n",
      "245439    2016-12-31 22:45\n",
      "245440    2016-12-31 23:00\n",
      "245441    2016-12-31 23:15\n",
      "245442    2016-12-31 23:30\n",
      "245443    2016-12-31 23:45\n",
      "Name: Time, Length: 245444, dtype: object\n"
     ]
    }
   ],
   "source": [
    "req_data = dataset[[\"High\",\"Low\",\"Close\"]]\n",
    "req_data1 = dataset[\"Time\"]\n",
    "print(req_data1)"
   ]
  },
  {
   "cell_type": "code",
   "execution_count": 5,
   "metadata": {},
   "outputs": [],
   "source": [
    "X_set= dataset[[\"High\",\"Low\"]]\n",
    "Y_set = dataset[\"Close\"]\n"
   ]
  },
  {
   "cell_type": "code",
   "execution_count": 6,
   "metadata": {},
   "outputs": [],
   "source": [
    "from sklearn.model_selection import train_test_split\n",
    "X_train,X_test,Y_train,Y_test =train_test_split(X_set,Y_set,test_size =0.2)"
   ]
  },
  {
   "cell_type": "code",
   "execution_count": 7,
   "metadata": {},
   "outputs": [
    {
     "name": "stdout",
     "output_type": "stream",
     "text": [
      "accuracy or determination score of train data 0.9999903994522947\n"
     ]
    }
   ],
   "source": [
    "from sklearn.linear_model import LinearRegression\n",
    "from sklearn.metrics import mean_squared_error\n",
    "from sklearn.metrics import mean_absolute_error\n",
    "import math\n",
    "lm = LinearRegression()\n",
    "model = lm.fit(X_train,Y_train)\n",
    "print(\"accuracy or determination score of train data\", model.score(X_test,Y_test))\n",
    "\n"
   ]
  },
  {
   "cell_type": "code",
   "execution_count": 8,
   "metadata": {},
   "outputs": [],
   "source": [
    "y_predic = model.predict(X_test)"
   ]
  },
  {
   "cell_type": "code",
   "execution_count": 9,
   "metadata": {},
   "outputs": [
    {
     "name": "stdout",
     "output_type": "stream",
     "text": [
      "MEAN SQUARED ERROR ---> 1.2284829848678783e-07\n",
      "ROOT MEAN SQUARED ERROR -----> 0.0003504972160899254\n",
      "MEAN ABSOLUTE ERROR----> 0.00020001109171747486\n"
     ]
    }
   ],
   "source": [
    "mse = mean_squared_error(Y_test,y_predic)\n",
    "rmse = math.sqrt(mse)\n",
    "mae = mean_absolute_error(Y_test,y_predic)\n",
    "print(\"MEAN SQUARED ERROR --->\" , mse)\n",
    "print(\"ROOT MEAN SQUARED ERROR ----->\",rmse)\n",
    "print(\"MEAN ABSOLUTE ERROR---->\",mae)\n"
   ]
  },
  {
   "cell_type": "code",
   "execution_count": 10,
   "metadata": {},
   "outputs": [
    {
     "name": "stdout",
     "output_type": "stream",
     "text": [
      "[0.99995497 0.99996487 0.99991785 0.9999924  0.99984247]\n"
     ]
    }
   ],
   "source": [
    "#K-FOLD CROSS VALIDATION, k value here is taken as 5\n",
    "from sklearn.model_selection import KFold\n",
    "from sklearn.model_selection import cross_val_score\n",
    "from sklearn.model_selection import cross_val_predict\n",
    "from sklearn import metrics\n",
    "\n",
    "kf =KFold(n_splits=5)\n",
    "kf.get_n_splits(X_set)\n",
    "kf\n",
    "k_Cross = cross_val_score(LinearRegression(),X_set ,Y_set,cv=5)\n",
    "print(k_Cross)"
   ]
  },
  {
   "cell_type": "code",
   "execution_count": 11,
   "metadata": {},
   "outputs": [
    {
     "name": "stdout",
     "output_type": "stream",
     "text": [
      "[1.43258468 1.43261977 1.43270984 ... 1.05149111 1.05149111 1.05149111]\n"
     ]
    }
   ],
   "source": [
    "prediction = cross_val_predict(model,X_set,Y_set,cv=5)\n",
    "print(prediction)"
   ]
  },
  {
   "cell_type": "code",
   "execution_count": 12,
   "metadata": {},
   "outputs": [
    {
     "data": {
      "text/plain": [
       "<function matplotlib.pyplot.show(close=None, block=None)>"
      ]
     },
     "execution_count": 12,
     "metadata": {},
     "output_type": "execute_result"
    },
    {
     "data": {
      "image/png": "[encoded data removed]",
      "text/plain": [
       "<Figure size 432x288 with 1 Axes>"
      ]
     },
     "metadata": {
      "needs_background": "light"
     },
     "output_type": "display_data"
    }
   ],
   "source": [
    "from matplotlib import pyplot as plt\n",
    "plt.scatter(Y_set,prediction)\n",
    "plt.show"
   ]
  },
  {
   "cell_type": "code",
   "execution_count": 24,
   "metadata": {},
   "outputs": [
    {
     "data": {
      "text/html": [
       "<div>\n",
       "<style scoped>\n",
       "    .dataframe tbody tr th:only-of-type {\n",
       "        vertical-align: middle;\n",
       "    }\n",
       "\n",
       "    .dataframe tbody tr th {\n",
       "        vertical-align: top;\n",
       "    }\n",
       "\n",
       "    .dataframe thead th {\n",
       "        text-align: right;\n",
       "    }\n",
       "</style>\n",
       "<table border=\"1\" class=\"dataframe\">\n",
       "  <thead>\n",
       "    <tr style=\"text-align: right;\">\n",
       "      <th></th>\n",
       "      <th>Time</th>\n",
       "      <th>year</th>\n",
       "      <th>month</th>\n",
       "      <th>hours</th>\n",
       "      <th>minutes</th>\n",
       "    </tr>\n",
       "  </thead>\n",
       "  <tbody>\n",
       "    <tr>\n",
       "      <th>0</th>\n",
       "      <td>2010-01-01 00:00:00+00:00</td>\n",
       "      <td>2010</td>\n",
       "      <td>1</td>\n",
       "      <td>0</td>\n",
       "      <td>0</td>\n",
       "    </tr>\n",
       "    <tr>\n",
       "      <th>1</th>\n",
       "      <td>2010-01-01 00:15:00+00:00</td>\n",
       "      <td>2010</td>\n",
       "      <td>1</td>\n",
       "      <td>0</td>\n",
       "      <td>15</td>\n",
       "    </tr>\n",
       "    <tr>\n",
       "      <th>2</th>\n",
       "      <td>2010-01-01 00:30:00+00:00</td>\n",
       "      <td>2010</td>\n",
       "      <td>1</td>\n",
       "      <td>0</td>\n",
       "      <td>30</td>\n",
       "    </tr>\n",
       "    <tr>\n",
       "      <th>3</th>\n",
       "      <td>2010-01-01 00:45:00+00:00</td>\n",
       "      <td>2010</td>\n",
       "      <td>1</td>\n",
       "      <td>0</td>\n",
       "      <td>45</td>\n",
       "    </tr>\n",
       "    <tr>\n",
       "      <th>4</th>\n",
       "      <td>2010-01-01 01:00:00+00:00</td>\n",
       "      <td>2010</td>\n",
       "      <td>1</td>\n",
       "      <td>1</td>\n",
       "      <td>0</td>\n",
       "    </tr>\n",
       "    <tr>\n",
       "      <th>5</th>\n",
       "      <td>2010-01-01 01:15:00+00:00</td>\n",
       "      <td>2010</td>\n",
       "      <td>1</td>\n",
       "      <td>1</td>\n",
       "      <td>15</td>\n",
       "    </tr>\n",
       "    <tr>\n",
       "      <th>6</th>\n",
       "      <td>2010-01-01 01:30:00+00:00</td>\n",
       "      <td>2010</td>\n",
       "      <td>1</td>\n",
       "      <td>1</td>\n",
       "      <td>30</td>\n",
       "    </tr>\n",
       "    <tr>\n",
       "      <th>7</th>\n",
       "      <td>2010-01-01 01:45:00+00:00</td>\n",
       "      <td>2010</td>\n",
       "      <td>1</td>\n",
       "      <td>1</td>\n",
       "      <td>45</td>\n",
       "    </tr>\n",
       "    <tr>\n",
       "      <th>8</th>\n",
       "      <td>2010-01-01 02:00:00+00:00</td>\n",
       "      <td>2010</td>\n",
       "      <td>1</td>\n",
       "      <td>2</td>\n",
       "      <td>0</td>\n",
       "    </tr>\n",
       "    <tr>\n",
       "      <th>9</th>\n",
       "      <td>2010-01-01 02:15:00+00:00</td>\n",
       "      <td>2010</td>\n",
       "      <td>1</td>\n",
       "      <td>2</td>\n",
       "      <td>15</td>\n",
       "    </tr>\n",
       "  </tbody>\n",
       "</table>\n",
       "</div>"
      ],
      "text/plain": [
       "                       Time  year  month  hours  minutes\n",
       "0 2010-01-01 00:00:00+00:00  2010      1      0        0\n",
       "1 2010-01-01 00:15:00+00:00  2010      1      0       15\n",
       "2 2010-01-01 00:30:00+00:00  2010      1      0       30\n",
       "3 2010-01-01 00:45:00+00:00  2010      1      0       45\n",
       "4 2010-01-01 01:00:00+00:00  2010      1      1        0\n",
       "5 2010-01-01 01:15:00+00:00  2010      1      1       15\n",
       "6 2010-01-01 01:30:00+00:00  2010      1      1       30\n",
       "7 2010-01-01 01:45:00+00:00  2010      1      1       45\n",
       "8 2010-01-01 02:00:00+00:00  2010      1      2        0\n",
       "9 2010-01-01 02:15:00+00:00  2010      1      2       15"
      ]
     },
     "execution_count": 24,
     "metadata": {},
     "output_type": "execute_result"
    }
   ],
   "source": [
    "dataset['year'] = dataset['Time'].dt.year\n",
    "#extract the date fromt time \n",
    "dataset['month'] = dataset['Time'].dt.month\n",
    "\n",
    "#df['day'] = df['date'].dt.day\n",
    "\n",
    "dataset['Time']= pd.to_datetime(dataset['Time'],utc=True)\n",
    "dataset['hours'] = dataset['Time'].dt.hour\n",
    "dataset['minutes'] = dataset['Time'].dt.minute\n",
    "x =dataset[['Time','year','month','hours','minutes']]\n",
    "x.head(10)\n",
    "#dataset.info()"
   ]
  },
  {
   "cell_type": "code",
   "execution_count": 15,
   "metadata": {},
   "outputs": [
    {
     "name": "stdout",
     "output_type": "stream",
     "text": [
      "                            Time     Open     High      Low    Close  \\\n",
      "53     2010-01-01 13:15:00+00:00  1.43208  1.43334  1.43207  1.43276   \n",
      "54     2010-01-01 13:30:00+00:00  1.43316  1.43348  1.43287  1.43325   \n",
      "55     2010-01-01 13:45:00+00:00  1.43327  1.43352  1.43288  1.43331   \n",
      "149    2010-01-02 13:15:00+00:00  1.43335  1.43335  1.43335  1.43335   \n",
      "150    2010-01-02 13:30:00+00:00  1.43335  1.43335  1.43335  1.43335   \n",
      "151    2010-01-02 13:45:00+00:00  1.43335  1.43335  1.43335  1.43335   \n",
      "245    2010-01-03 13:15:00+00:00  1.43335  1.43335  1.43335  1.43335   \n",
      "246    2010-01-03 13:30:00+00:00  1.43335  1.43335  1.43335  1.43335   \n",
      "247    2010-01-03 13:45:00+00:00  1.43335  1.43335  1.43335  1.43335   \n",
      "341    2010-01-04 13:15:00+00:00  1.43873  1.44025  1.43867  1.43951   \n",
      "342    2010-01-04 13:30:00+00:00  1.43941  1.44229  1.43895  1.44216   \n",
      "343    2010-01-04 13:45:00+00:00  1.44209  1.44327  1.44111  1.44205   \n",
      "437    2010-01-05 13:15:00+00:00  1.44404  1.44429  1.44312  1.44333   \n",
      "438    2010-01-05 13:30:00+00:00  1.44316  1.44398  1.44236  1.44285   \n",
      "439    2010-01-05 13:45:00+00:00  1.44293  1.44317  1.44177  1.44259   \n",
      "533    2010-01-06 13:15:00+00:00  1.43462  1.43669  1.43415  1.43582   \n",
      "534    2010-01-06 13:30:00+00:00  1.43580  1.43723  1.43526  1.43673   \n",
      "535    2010-01-06 13:45:00+00:00  1.43660  1.43727  1.43523  1.43577   \n",
      "629    2010-01-07 13:15:00+00:00  1.43036  1.43188  1.42976  1.43123   \n",
      "630    2010-01-07 13:30:00+00:00  1.43133  1.43289  1.43068  1.43205   \n",
      "631    2010-01-07 13:45:00+00:00  1.43209  1.43350  1.43175  1.43326   \n",
      "725    2010-01-08 13:15:00+00:00  1.42725  1.42873  1.42616  1.42873   \n",
      "726    2010-01-08 13:30:00+00:00  1.42921  1.43711  1.42850  1.43596   \n",
      "727    2010-01-08 13:45:00+00:00  1.43589  1.44140  1.43580  1.44016   \n",
      "821    2010-01-09 13:15:00+00:00  1.44083  1.44083  1.44083  1.44083   \n",
      "822    2010-01-09 13:30:00+00:00  1.44083  1.44083  1.44083  1.44083   \n",
      "823    2010-01-09 13:45:00+00:00  1.44083  1.44083  1.44083  1.44083   \n",
      "917    2010-01-10 13:15:00+00:00  1.44083  1.44083  1.44083  1.44083   \n",
      "918    2010-01-10 13:30:00+00:00  1.44083  1.44083  1.44083  1.44083   \n",
      "919    2010-01-10 13:45:00+00:00  1.44083  1.44083  1.44083  1.44083   \n",
      "...                          ...      ...      ...      ...      ...   \n",
      "244537 2016-12-22 13:15:00+00:00  1.04448  1.04465  1.04351  1.04385   \n",
      "244538 2016-12-22 13:30:00+00:00  1.04385  1.04507  1.04324  1.04409   \n",
      "244539 2016-12-22 13:45:00+00:00  1.04408  1.04417  1.04292  1.04388   \n",
      "244633 2016-12-23 13:15:00+00:00  1.04459  1.04473  1.04384  1.04393   \n",
      "244634 2016-12-23 13:30:00+00:00  1.04392  1.04466  1.04380  1.04416   \n",
      "244635 2016-12-23 13:45:00+00:00  1.04418  1.04418  1.04320  1.04342   \n",
      "244729 2016-12-24 13:15:00+00:00  1.04532  1.04532  1.04532  1.04532   \n",
      "244730 2016-12-24 13:30:00+00:00  1.04532  1.04532  1.04532  1.04532   \n",
      "244731 2016-12-24 13:45:00+00:00  1.04532  1.04532  1.04532  1.04532   \n",
      "244825 2016-12-25 13:15:00+00:00  1.04532  1.04532  1.04532  1.04532   \n",
      "244826 2016-12-25 13:30:00+00:00  1.04532  1.04532  1.04532  1.04532   \n",
      "244827 2016-12-25 13:45:00+00:00  1.04532  1.04532  1.04532  1.04532   \n",
      "244921 2016-12-26 13:15:00+00:00  1.04450  1.04512  1.04417  1.04509   \n",
      "244922 2016-12-26 13:30:00+00:00  1.04510  1.04557  1.04436  1.04436   \n",
      "244923 2016-12-26 13:45:00+00:00  1.04430  1.04554  1.04429  1.04530   \n",
      "245017 2016-12-27 13:15:00+00:00  1.04454  1.04469  1.04430  1.04448   \n",
      "245018 2016-12-27 13:30:00+00:00  1.04448  1.04466  1.04412  1.04460   \n",
      "245019 2016-12-27 13:45:00+00:00  1.04459  1.04468  1.04415  1.04433   \n",
      "245113 2016-12-28 13:15:00+00:00  1.04009  1.04019  1.03964  1.03987   \n",
      "245114 2016-12-28 13:30:00+00:00  1.03988  1.03988  1.03865  1.03906   \n",
      "245115 2016-12-28 13:45:00+00:00  1.03906  1.03971  1.03901  1.03934   \n",
      "245209 2016-12-29 13:15:00+00:00  1.04525  1.04535  1.04455  1.04492   \n",
      "245210 2016-12-29 13:30:00+00:00  1.04492  1.04546  1.04456  1.04468   \n",
      "245211 2016-12-29 13:45:00+00:00  1.04466  1.04679  1.04466  1.04648   \n",
      "245305 2016-12-30 13:15:00+00:00  1.05406  1.05458  1.05360  1.05416   \n",
      "245306 2016-12-30 13:30:00+00:00  1.05415  1.05530  1.05380  1.05530   \n",
      "245307 2016-12-30 13:45:00+00:00  1.05530  1.05537  1.05395  1.05436   \n",
      "245401 2016-12-31 13:15:00+00:00  1.05150  1.05150  1.05150  1.05150   \n",
      "245402 2016-12-31 13:30:00+00:00  1.05150  1.05150  1.05150  1.05150   \n",
      "245403 2016-12-31 13:45:00+00:00  1.05150  1.05150  1.05150  1.05150   \n",
      "\n",
      "              Volume  hours  minutes  \n",
      "53      6.905000e+08     13       15  \n",
      "54      8.785000e+08     13       30  \n",
      "55      1.074600e+09     13       45  \n",
      "149     0.000000e+00     13       15  \n",
      "150     0.000000e+00     13       30  \n",
      "151     0.000000e+00     13       45  \n",
      "245     0.000000e+00     13       15  \n",
      "246     0.000000e+00     13       30  \n",
      "247     0.000000e+00     13       45  \n",
      "341     1.032900e+09     13       15  \n",
      "342     1.762100e+09     13       30  \n",
      "343     1.126500e+09     13       45  \n",
      "437     1.018000e+09     13       15  \n",
      "438     1.765800e+09     13       30  \n",
      "439     1.233300e+09     13       45  \n",
      "533     1.002900e+09     13       15  \n",
      "534     1.868400e+09     13       30  \n",
      "535     1.217300e+09     13       45  \n",
      "629     1.013600e+09     13       15  \n",
      "630     1.646000e+09     13       30  \n",
      "631     1.116600e+09     13       45  \n",
      "725     1.076200e+09     13       15  \n",
      "726     1.835200e+09     13       30  \n",
      "727     1.131200e+09     13       45  \n",
      "821     0.000000e+00     13       15  \n",
      "822     0.000000e+00     13       30  \n",
      "823     0.000000e+00     13       45  \n",
      "917     0.000000e+00     13       15  \n",
      "918     0.000000e+00     13       30  \n",
      "919     0.000000e+00     13       45  \n",
      "...              ...    ...      ...  \n",
      "244537  2.384680e+09     13       15  \n",
      "244538  3.689270e+09     13       30  \n",
      "244539  3.329980e+09     13       45  \n",
      "244633  1.947780e+09     13       15  \n",
      "244634  2.621390e+09     13       30  \n",
      "244635  2.095690e+09     13       45  \n",
      "244729  0.000000e+00     13       15  \n",
      "244730  0.000000e+00     13       30  \n",
      "244731  0.000000e+00     13       45  \n",
      "244825  0.000000e+00     13       15  \n",
      "244826  0.000000e+00     13       30  \n",
      "244827  0.000000e+00     13       45  \n",
      "244921  2.177900e+08     13       15  \n",
      "244922  1.953700e+08     13       30  \n",
      "244923  2.886700e+08     13       45  \n",
      "245017  1.609560e+09     13       15  \n",
      "245018  1.420440e+09     13       30  \n",
      "245019  1.690540e+09     13       45  \n",
      "245113  2.322360e+09     13       15  \n",
      "245114  3.079630e+09     13       30  \n",
      "245115  2.841160e+09     13       45  \n",
      "245209  2.524830e+09     13       15  \n",
      "245210  2.285910e+09     13       30  \n",
      "245211  3.553210e+09     13       45  \n",
      "245305  2.707360e+09     13       15  \n",
      "245306  2.083950e+09     13       30  \n",
      "245307  3.230920e+09     13       45  \n",
      "245401  0.000000e+00     13       15  \n",
      "245402  0.000000e+00     13       30  \n",
      "245403  0.000000e+00     13       45  \n",
      "\n",
      "[7671 rows x 8 columns]\n"
     ]
    }
   ],
   "source": [
    "df1 = dataset[(dataset.hours==13)]\n",
    "#print(df1)\n",
    "df_m = df1[df1.minutes!=0]\n",
    "print(df_m)\n",
    "df2 = dataset.loc[(dataset.hours>13)]\n",
    "df3 =df2[df2.hours<18]\n",
    "#print(df3)"
   ]
  },
  {
   "cell_type": "code",
   "execution_count": 16,
   "metadata": {},
   "outputs": [],
   "source": [
    "filter_df = pd.concat([df_m,df3],ignore_index=True)"
   ]
  },
  {
   "cell_type": "code",
   "execution_count": 28,
   "metadata": {
    "scrolled": false
   },
   "outputs": [
    {
     "name": "stdout",
     "output_type": "stream",
     "text": [
      "                       Time     Open     High      Low    Close        Volume\n",
      "0 2010-01-01 13:15:00+00:00  1.43208  1.43334  1.43207  1.43276  6.905000e+08\n",
      "1 2010-01-01 13:30:00+00:00  1.43316  1.43348  1.43287  1.43325  8.785000e+08\n",
      "2 2010-01-01 13:45:00+00:00  1.43327  1.43352  1.43288  1.43331  1.074600e+09\n",
      "3 2010-01-02 13:15:00+00:00  1.43335  1.43335  1.43335  1.43335  0.000000e+00\n",
      "4 2010-01-02 13:30:00+00:00  1.43335  1.43335  1.43335  1.43335  0.000000e+00\n"
     ]
    }
   ],
   "source": [
    "newdf = filter_df.drop([\"hours\",\"minutes\"],axis=1)\n",
    "print(newdf.head())\n",
    "Olfdf = dataset.drop([\"hours\",\"minutes\"],axis=1)"
   ]
  },
  {
   "cell_type": "code",
   "execution_count": 30,
   "metadata": {},
   "outputs": [],
   "source": [
    "o =Olfdf.loc[pd.merge(Olfdf, newdf, on=[\"Time\",\"Open\",\"High\",\"Low\",\"Close\",\"Volume\"], how='left', indicator=True)['_merge'] == 'left_only']"
   ]
  },
  {
   "cell_type": "code",
   "execution_count": 31,
   "metadata": {},
   "outputs": [
    {
     "name": "stdout",
     "output_type": "stream",
     "text": [
      "                            Time     Open     High      Low    Close  \\\n",
      "0      2010-01-01 00:00:00+00:00  1.43283  1.43293  1.43224  1.43293   \n",
      "1      2010-01-01 00:15:00+00:00  1.43285  1.43295  1.43229  1.43275   \n",
      "2      2010-01-01 00:30:00+00:00  1.43280  1.43303  1.43239  1.43281   \n",
      "3      2010-01-01 00:45:00+00:00  1.43285  1.43294  1.43229  1.43276   \n",
      "4      2010-01-01 01:00:00+00:00  1.43287  1.43292  1.43206  1.43282   \n",
      "5      2010-01-01 01:15:00+00:00  1.43290  1.43299  1.43212  1.43292   \n",
      "6      2010-01-01 01:30:00+00:00  1.43267  1.43305  1.43209  1.43282   \n",
      "7      2010-01-01 01:45:00+00:00  1.43280  1.43302  1.43218  1.43249   \n",
      "8      2010-01-01 02:00:00+00:00  1.43279  1.43303  1.43237  1.43301   \n",
      "9      2010-01-01 02:15:00+00:00  1.43301  1.43303  1.43222  1.43271   \n",
      "10     2010-01-01 02:30:00+00:00  1.43285  1.43305  1.43228  1.43285   \n",
      "11     2010-01-01 02:45:00+00:00  1.43288  1.43302  1.43218  1.43278   \n",
      "12     2010-01-01 03:00:00+00:00  1.43285  1.43302  1.43222  1.43287   \n",
      "13     2010-01-01 03:15:00+00:00  1.43280  1.43306  1.43219  1.43292   \n",
      "14     2010-01-01 03:30:00+00:00  1.43280  1.43302  1.43219  1.43276   \n",
      "15     2010-01-01 03:45:00+00:00  1.43284  1.43293  1.43181  1.43209   \n",
      "16     2010-01-01 04:00:00+00:00  1.43218  1.43302  1.43182  1.43273   \n",
      "17     2010-01-01 04:15:00+00:00  1.43263  1.43294  1.43204  1.43223   \n",
      "18     2010-01-01 04:30:00+00:00  1.43239  1.43302  1.43197  1.43282   \n",
      "19     2010-01-01 04:45:00+00:00  1.43284  1.43295  1.43220  1.43236   \n",
      "20     2010-01-01 05:00:00+00:00  1.43237  1.43294  1.43199  1.43268   \n",
      "21     2010-01-01 05:15:00+00:00  1.43275  1.43294  1.43211  1.43277   \n",
      "22     2010-01-01 05:30:00+00:00  1.43214  1.43298  1.43210  1.43268   \n",
      "23     2010-01-01 05:45:00+00:00  1.43253  1.43306  1.43214  1.43303   \n",
      "24     2010-01-01 06:00:00+00:00  1.43283  1.43335  1.43269  1.43334   \n",
      "25     2010-01-01 06:15:00+00:00  1.43331  1.43332  1.43268  1.43326   \n",
      "26     2010-01-01 06:30:00+00:00  1.43322  1.43333  1.43270  1.43315   \n",
      "27     2010-01-01 06:45:00+00:00  1.43318  1.43331  1.43269  1.43286   \n",
      "28     2010-01-01 07:00:00+00:00  1.43328  1.43342  1.43226  1.43304   \n",
      "29     2010-01-01 07:15:00+00:00  1.43303  1.43334  1.43254  1.43316   \n",
      "...                          ...      ...      ...      ...      ...   \n",
      "245395 2016-12-31 11:45:00+00:00  1.05150  1.05150  1.05150  1.05150   \n",
      "245396 2016-12-31 12:00:00+00:00  1.05150  1.05150  1.05150  1.05150   \n",
      "245397 2016-12-31 12:15:00+00:00  1.05150  1.05150  1.05150  1.05150   \n",
      "245398 2016-12-31 12:30:00+00:00  1.05150  1.05150  1.05150  1.05150   \n",
      "245399 2016-12-31 12:45:00+00:00  1.05150  1.05150  1.05150  1.05150   \n",
      "245400 2016-12-31 13:00:00+00:00  1.05150  1.05150  1.05150  1.05150   \n",
      "245420 2016-12-31 18:00:00+00:00  1.05150  1.05150  1.05150  1.05150   \n",
      "245421 2016-12-31 18:15:00+00:00  1.05150  1.05150  1.05150  1.05150   \n",
      "245422 2016-12-31 18:30:00+00:00  1.05150  1.05150  1.05150  1.05150   \n",
      "245423 2016-12-31 18:45:00+00:00  1.05150  1.05150  1.05150  1.05150   \n",
      "245424 2016-12-31 19:00:00+00:00  1.05150  1.05150  1.05150  1.05150   \n",
      "245425 2016-12-31 19:15:00+00:00  1.05150  1.05150  1.05150  1.05150   \n",
      "245426 2016-12-31 19:30:00+00:00  1.05150  1.05150  1.05150  1.05150   \n",
      "245427 2016-12-31 19:45:00+00:00  1.05150  1.05150  1.05150  1.05150   \n",
      "245428 2016-12-31 20:00:00+00:00  1.05150  1.05150  1.05150  1.05150   \n",
      "245429 2016-12-31 20:15:00+00:00  1.05150  1.05150  1.05150  1.05150   \n",
      "245430 2016-12-31 20:30:00+00:00  1.05150  1.05150  1.05150  1.05150   \n",
      "245431 2016-12-31 20:45:00+00:00  1.05150  1.05150  1.05150  1.05150   \n",
      "245432 2016-12-31 21:00:00+00:00  1.05150  1.05150  1.05150  1.05150   \n",
      "245433 2016-12-31 21:15:00+00:00  1.05150  1.05150  1.05150  1.05150   \n",
      "245434 2016-12-31 21:30:00+00:00  1.05150  1.05150  1.05150  1.05150   \n",
      "245435 2016-12-31 21:45:00+00:00  1.05150  1.05150  1.05150  1.05150   \n",
      "245436 2016-12-31 22:00:00+00:00  1.05150  1.05150  1.05150  1.05150   \n",
      "245437 2016-12-31 22:15:00+00:00  1.05150  1.05150  1.05150  1.05150   \n",
      "245438 2016-12-31 22:30:00+00:00  1.05150  1.05150  1.05150  1.05150   \n",
      "245439 2016-12-31 22:45:00+00:00  1.05150  1.05150  1.05150  1.05150   \n",
      "245440 2016-12-31 23:00:00+00:00  1.05150  1.05150  1.05150  1.05150   \n",
      "245441 2016-12-31 23:15:00+00:00  1.05150  1.05150  1.05150  1.05150   \n",
      "245442 2016-12-31 23:30:00+00:00  1.05150  1.05150  1.05150  1.05150   \n",
      "245443 2016-12-31 23:45:00+00:00  1.05150  1.05150  1.05150  1.05150   \n",
      "\n",
      "             Volume  \n",
      "0       608600007.1  \n",
      "1       535600003.2  \n",
      "2       436299999.2  \n",
      "3       614299997.3  \n",
      "4       705300008.8  \n",
      "5       427300005.9  \n",
      "6       399200000.8  \n",
      "7       481200008.4  \n",
      "8       607599996.6  \n",
      "9       469600000.4  \n",
      "10      492100001.3  \n",
      "11      940599988.0  \n",
      "12      931899999.6  \n",
      "13      729700006.5  \n",
      "14      898299997.3  \n",
      "15      721799999.2  \n",
      "16      828199995.0  \n",
      "17      648600000.4  \n",
      "18      584900001.5  \n",
      "19      563500003.8  \n",
      "20      616799997.3  \n",
      "21      727899997.7  \n",
      "22      593899999.6  \n",
      "23      699299997.3  \n",
      "24      681700002.7  \n",
      "25      708699993.1  \n",
      "26      925499998.1  \n",
      "27      812399997.7  \n",
      "28      912299995.4  \n",
      "29      935200000.8  \n",
      "...             ...  \n",
      "245395          0.0  \n",
      "245396          0.0  \n",
      "245397          0.0  \n",
      "245398          0.0  \n",
      "245399          0.0  \n",
      "245400          0.0  \n",
      "245420          0.0  \n",
      "245421          0.0  \n",
      "245422          0.0  \n",
      "245423          0.0  \n",
      "245424          0.0  \n",
      "245425          0.0  \n",
      "245426          0.0  \n",
      "245427          0.0  \n",
      "245428          0.0  \n",
      "245429          0.0  \n",
      "245430          0.0  \n",
      "245431          0.0  \n",
      "245432          0.0  \n",
      "245433          0.0  \n",
      "245434          0.0  \n",
      "245435          0.0  \n",
      "245436          0.0  \n",
      "245437          0.0  \n",
      "245438          0.0  \n",
      "245439          0.0  \n",
      "245440          0.0  \n",
      "245441          0.0  \n",
      "245442          0.0  \n",
      "245443          0.0  \n",
      "\n",
      "[196861 rows x 6 columns]\n"
     ]
    }
   ],
   "source": [
    "print(o)"
   ]
  },
  {
   "cell_type": "code",
   "execution_count": null,
   "metadata": {},
   "outputs": [],
   "source": []
  }
 ],
 "metadata": {
  "kernelspec": {
   "display_name": "Python 3",
   "language": "python",
   "name": "python3"
  },
  "language_info": {
   "codemirror_mode": {
    "name": "ipython",
    "version": 3
   },
   "file_extension": ".py",
   "mimetype": "text/x-python",
   "name": "python",
   "nbconvert_exporter": "python",
   "pygments_lexer": "ipython3",
   "version": "3.7.9"
  }
 },
 "nbformat": 4,
 "nbformat_minor": 2
}
